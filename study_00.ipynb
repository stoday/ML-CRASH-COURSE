{
 "cells": [
  {
   "cell_type": "markdown",
   "metadata": {},
   "source": [
    "Course | Date | Speaker\n",
    "---|---|---\n",
    "Introduction to ML (min) | 2019/05/10 | Today\n",
    "Framing (15 min) | 2019/05/10| Today\n",
    "Descending into ML (20 min) | 2019/05/10 | Today\n",
    "Reducing Loss (60 min) | 2019/5/20| Today\n",
    "First Steps with TF (60 min) | 2019/05/31 | 紹育\n",
    "Generalization (15 min) | 2019/06/07 | 小由\n",
    "Traning and Test Sets (25 min) | 2019/06/14 | Today\n",
    "Validation Set (40 min) | 2019/06/21 | 紹育\n",
    "Representation (65 min) | 2019/06/28 | 小由\n",
    "Feature Crosses (70 min) | 2019/07/05 | Today\n",
    "Regularization: Simplicity (40 min) | 2019/07/12 | 紹育\n",
    "Logistic Regression (20 min) | 2019/07/19 | 小由\n",
    "Classification (90 min) | 2019/07/26 | Today\n",
    "Regularization: Sparsity (45 min) | 2019/08/02 | 紹育\n",
    "Neural Networks (55 min) | 2019/08/09 | 小由\n",
    "Traning Neural Nets (40 min) | 2019/08/16 | Today\n",
    "Multi-class Neural Nets (50 min) | 2019/08/23 | 紹育\n",
    "Embeddings (80 min) | 2019/08/30 | 小由"
   ]
  },
  {
   "cell_type": "code",
   "execution_count": null,
   "metadata": {},
   "outputs": [],
   "source": []
  }
 ],
 "metadata": {
  "kernelspec": {
   "display_name": "Python 3",
   "language": "python",
   "name": "python3"
  },
  "language_info": {
   "codemirror_mode": {
    "name": "ipython",
    "version": 3
   },
   "file_extension": ".py",
   "mimetype": "text/x-python",
   "name": "python",
   "nbconvert_exporter": "python",
   "pygments_lexer": "ipython3",
   "version": "3.6.6"
  }
 },
 "nbformat": 4,
 "nbformat_minor": 2
}
