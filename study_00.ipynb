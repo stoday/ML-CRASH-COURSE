{
 "cells": [
  {
   "cell_type": "markdown",
   "metadata": {},
   "source": [
    "Course | Date | Speaker\n",
    "---|---|---\n",
    "Introduction to ML (min) | 2019/05/10 | #3200\n",
    "Framing (15 min) | 2019/05/10| #3200\n",
    "Descending into ML (20 min) | 2019/05/10 | #3200\n",
    "Reducing Loss (60 min) | 2019/5/20| #3200\n",
    "First Steps with TF (60 min) | 2019/05/31 | #3223\n",
    "Generalization (15 min) | 2019/06/07 | #7389\n",
    "Traning and Test Sets (25 min) | 2019/06/14 | #3200\n",
    "Validation Set (40 min) | 2019/06/21 | #3223\n",
    "Representation (65 min) | 2019/06/28 | #7389\n",
    "Feature Crosses (70 min) | 2019/07/05 | #3200\n",
    "Regularization: Simplicity (40 min) | 2019/07/12 | #3223\n",
    "Logistic Regression (20 min) | 2019/07/19 | #7389\n",
    "Classification (90 min) | 2019/07/26 | #3200\n",
    "Regularization: Sparsity (45 min) | 2019/08/02 | #3223\n",
    "Neural Networks (55 min) | 2019/08/09 | #7389\n",
    "Traning Neural Nets (40 min) | 2019/08/16 | #3200\n",
    "Multi-class Neural Nets (50 min) | 2019/08/23 | #3223\n",
    "Embeddings (80 min) | 2019/08/30 | #7389"
   ]
  },
  {
   "cell_type": "code",
   "execution_count": null,
   "metadata": {},
   "outputs": [],
   "source": []
  }
 ],
 "metadata": {
  "kernelspec": {
   "display_name": "Python 3",
   "language": "python",
   "name": "python3"
  },
  "language_info": {
   "codemirror_mode": {
    "name": "ipython",
    "version": 3
   },
   "file_extension": ".py",
   "mimetype": "text/x-python",
   "name": "python",
   "nbconvert_exporter": "python",
   "pygments_lexer": "ipython3",
   "version": "3.6.6"
  }
 },
 "nbformat": 4,
 "nbformat_minor": 2
}
