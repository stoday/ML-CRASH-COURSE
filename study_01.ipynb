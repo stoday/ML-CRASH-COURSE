{
 "cells": [
  {
   "cell_type": "markdown",
   "metadata": {
    "slideshow": {
     "slide_type": "slide"
    }
   },
   "source": [
    "# ML Concepts"
   ]
  },
  {
   "cell_type": "markdown",
   "metadata": {
    "slideshow": {
     "slide_type": "slide"
    }
   },
   "source": [
    "## Introduction to Machine Learning"
   ]
  },
  {
   "cell_type": "markdown",
   "metadata": {
    "slideshow": {
     "slide_type": "slide"
    }
   },
   "source": [
    "![畫面](./study_01_pics/image_0.png)"
   ]
  },
  {
   "cell_type": "markdown",
   "metadata": {
    "slideshow": {
     "slide_type": "slide"
    }
   },
   "source": [
    "作為一名軟體工程師，在這個 Crash Course 裡，可以學到將以下三件事:\n",
    "\n",
    "1. 可以使用現成的機器學習工具， 只需向其提供一些樣本，即可在很短的時間內獲得一個更可靠的程式。\n",
    "\n",
    "2. 借助機器學習，可以讓產品與應用更容易被擴展\n",
    "\n",
    "3. 借助機器學習， 可以解決自己作為程式設計人員不知道如何用人工方法解決的問題。\n",
    "\n",
    "此外，也可以增加邏輯、統計與數學的思維來思考問題，將理論轉移到應用上。"
   ]
  },
  {
   "cell_type": "code",
   "execution_count": 1,
   "metadata": {},
   "outputs": [],
   "source": [
    "import pandas as pd"
   ]
  },
  {
   "cell_type": "code",
   "execution_count": null,
   "metadata": {},
   "outputs": [],
   "source": [
    "pd.Series()"
   ]
  },
  {
   "cell_type": "markdown",
   "metadata": {
    "slideshow": {
     "slide_type": "slide"
    }
   },
   "source": [
    "## Framing\n",
    "\n",
    "### 監督式機器學習(Supervised learning)\n",
    "\n",
    "在**督式機器學習**中， 我們將學習如何創建**模型(model)**來結合輸入資訊， 對以前從未見過的資料做出有用的預測。\n",
    "當我們訓練該模型時，會為其提供標籤(label)。\n",
    "\n",
    "以垃圾郵件過濾模型為例，標籤可以是 “垃圾郵件或非垃圾郵件”等內容，\n",
    "它是我們試圖預測的目標。"
   ]
  },
  {
   "cell_type": "markdown",
   "metadata": {
    "slideshow": {
     "slide_type": "slide"
    }
   },
   "source": [
    "**特徵(feature)**是我們表示資料的方式。\n",
    "\n",
    "特徵可以從電子郵件中提取，例如， 電子郵件中的字詞、“收件人和寄件者地址”、\n",
    "各種路由或標題資訊， 以及任何可以從電子郵件中提取\n",
    "並提供給機器學習系統的資訊。\n",
    "**樣本(sample)**是一份資料。\n",
    "\n",
    "例如，一封電子郵件。\n",
    "它可以是**有標籤的樣本(labeled sample)**， 其中包含電子郵件中呈現的特徵資訊， 以及標籤值“垃圾郵件或非垃圾郵件”。\n",
    "這些資訊可能來自使用者。\n",
    "\n",
    "或者，它也可以是**無標籤樣本(unlabeled sample)**， 例如，一封我們擁有關於它的特徵資訊、 但不知道它是否為垃圾郵件的電子郵件。\n",
    "我們要做的很可能是對其進行分類， 將其放入用戶的收件箱或“垃圾郵件”資料夾。\n",
    "\n",
    "最後，我們會獲得一個模型， 該模型是執行預測的工具。\n",
    "我們將通過從資料中學習規律 這一過程來嘗試創建模型。"
   ]
  },
  {
   "cell_type": "markdown",
   "metadata": {
    "slideshow": {
     "slide_type": "slide"
    }
   },
   "source": [
    "## Labels\n",
    "A **label** is the thing we're predicting—the $y$ variable in simple linear regression. \n",
    "\n",
    "The **label** could be the future price of wheather, the kind of animal shown in a picture, the meaning of an audio clip, or just about anything."
   ]
  },
  {
   "cell_type": "markdown",
   "metadata": {
    "slideshow": {
     "slide_type": "slide"
    }
   },
   "source": [
    "## Features\n",
    "A **feature** is an input variable—the $x$ variable in simple linear regression. A simple machine learning project might use a single feature, while a more sophisticated machine learning project could use millions of features, specified as:\n",
    "\n",
    "$x_1, x_2, x_3, ... x_n$\n",
    "\n",
    "In the spam detector example, the features could include the following:\n",
    "\n",
    "* words in the email text\n",
    "* sender's address\n",
    "* time of day the email was sent\n",
    "* email contains the phrase \"one weird trick.\""
   ]
  },
  {
   "cell_type": "markdown",
   "metadata": {
    "slideshow": {
     "slide_type": "slide"
    }
   },
   "source": [
    "### Examples\n",
    "\n",
    "![](./study_01_pics/Example_Label.png)"
   ]
  },
  {
   "cell_type": "markdown",
   "metadata": {
    "slideshow": {
     "slide_type": "slide"
    }
   },
   "source": [
    "![](./study_01_pics/Example_Unlabel.png)"
   ]
  },
  {
   "cell_type": "markdown",
   "metadata": {
    "slideshow": {
     "slide_type": "slide"
    }
   },
   "source": [
    "## Models\n",
    "A **model** defines the relationship between **features** and **label**. For example, a spam detection model might associate certain features strongly with \"spam\". Let's highlight two phases of a model's life:\n",
    "\n",
    "1. **Training** means **creating** or **learning the model**. That is, you show the model labeled examples and enable the model to gradually learn the relationships between features and label.\n",
    "\n",
    "2. **Inference** means **applying the trained model** to **unlabeled examples**. That is, you use the trained model to make useful predictions (y'). For example, during inference, you can predict medianHouseValue for new unlabeled examples."
   ]
  },
  {
   "cell_type": "markdown",
   "metadata": {
    "slideshow": {
     "slide_type": "slide"
    }
   },
   "source": [
    "## Regression vs. classification\n",
    "A **regression model** predicts **continuous values**. For example, regression models make predictions that answer questions like the following:\n",
    "\n",
    "What is the value of a house in California?\n",
    "\n",
    "What is the probability that a user will click on this ad?\n",
    "\n",
    "A **classification model** predicts **discrete values**. For example, classification models make predictions that answer questions like the following:\n",
    "\n",
    "Is a given email message spam or not spam?\n",
    "\n",
    "Is this an image of a dog, a cat, or a hamster?"
   ]
  },
  {
   "cell_type": "markdown",
   "metadata": {
    "slideshow": {
     "slide_type": "slide"
    }
   },
   "source": [
    "## 監督式學習(Supervised Learning)\n",
    "\n",
    "![](./study_01_pics/Q_1.png)"
   ]
  },
  {
   "cell_type": "markdown",
   "metadata": {
    "slideshow": {
     "slide_type": "slide"
    }
   },
   "source": [
    "![](./study_01_pics/Ans_1.png)"
   ]
  },
  {
   "cell_type": "markdown",
   "metadata": {
    "slideshow": {
     "slide_type": "slide"
    }
   },
   "source": [
    "## 特徵(feature)和標籤(label)\n",
    "\n",
    "![](./study_01_pics/Q_2.png)"
   ]
  },
  {
   "cell_type": "markdown",
   "metadata": {
    "slideshow": {
     "slide_type": "slide"
    }
   },
   "source": [
    "![](./study_01_pics/Ans_2.png)"
   ]
  },
  {
   "cell_type": "markdown",
   "metadata": {
    "slideshow": {
     "slide_type": "slide"
    }
   },
   "source": [
    "## Descending into ML\n",
    "\n",
    "模型有簡單也有複雜的。先從最簡單、最熟悉的方法入手，第一個小模型練習一下。\n",
    "\n",
    "這裡有一個小型資料集，X軸是輸入特徵，顯示的是房子面積；Y軸是我們嘗試預測的房價的目標價值。\n",
    "\n",
    "![](./study_01_pics/simple_model.png)\n",
    "\n",
    "我們來試著製作一個模型，將房子面積作為輸入特徵，預測房價作為輸出特徵。"
   ]
  },
  {
   "cell_type": "markdown",
   "metadata": {
    "slideshow": {
     "slide_type": "slide"
    }
   },
   "source": [
    "這條線現在就是一個模型， 根據給定的輸入值預測房價。\n",
    "\n",
    "![](./study_01_pics/simple_model_2.png)"
   ]
  },
  {
   "cell_type": "markdown",
   "metadata": {
    "slideshow": {
     "slide_type": "slide"
    }
   },
   "source": [
    "### 回歸問題中的誤差定義\n",
    "\n",
    "不是只定義誤差函數， 而是找出一個便於著手的實用方式。我們將其稱為L2誤差， 也稱為方差。\n",
    "採用我們模型的預測結果 與真實值之間的方差。\n",
    "\n",
    "很明顯，離真實值越遠，誤差就會以平方數增加。\n",
    "\n",
    "在訓練模型時， 並非專注於儘量減少某一個樣本的誤差，\n",
    "而是著眼於最大限度地 減少整個資料集的誤差。"
   ]
  },
  {
   "cell_type": "markdown",
   "metadata": {
    "slideshow": {
     "slide_type": "slide"
    }
   },
   "source": [
    "比起涼爽的天氣，蟋蟀在較為炎熱的天氣裡鳴叫更為頻繁。昆蟲學者已蒐集好每分鐘的鳴叫聲和溫度方面的資料，利用該資料庫可以訓練一個模型，從而預測鳴叫聲與溫度的關係。\n",
    "\n",
    "毫無疑問，此曲線圖表明溫度隨著鳴叫聲次數的增加而上升。鳴叫聲與溫度之間的關係是線性關係\n",
    "\n",
    "\n",
    "![](.\\study_01_pics\\bug_noise_model.png)"
   ]
  },
  {
   "cell_type": "markdown",
   "metadata": {
    "slideshow": {
     "slide_type": "slide"
    }
   },
   "source": [
    "這一條線可以用下列的數學式描述:\n",
    "\n",
    "$ y=mx+b $\n",
    "\n",
    "where:\n",
    "\n",
    "$y$ is the temperature in Celsius—the value we're trying to predict.\n",
    "\n",
    "$m$ is the slope of the line.\n",
    "\n",
    "$x$ is the number of chirps per minute—the value of our input feature.\n",
    "\n",
    "$b$ is the y-intercept."
   ]
  },
  {
   "cell_type": "markdown",
   "metadata": {
    "slideshow": {
     "slide_type": "slide"
    }
   },
   "source": [
    "按照機器學習的慣例，您需要寫一個存在細微差別的模型方程式：\n",
    "\n",
    "$ y'=b+w_1x_1 $\n",
    "\n",
    "where:\n",
    "\n",
    "$y'$ is the predicted label (a desired output).\n",
    "\n",
    "$b$ is the bias (the y-intercept), sometimes referred to as $w_0$.\n",
    "\n",
    "$w$ is the weight of feature 1. Weight is the same concept as the \"slope\" $m$ in the traditional equation of a line.\n",
    "\n",
    "$x_1$ is a feature (a known input)."
   ]
  },
  {
   "cell_type": "markdown",
   "metadata": {
    "slideshow": {
     "slide_type": "slide"
    }
   },
   "source": [
    "下面是更複雜模型表示:\n",
    "    \n",
    "$ y'=b + w_1x_1 + w_1x_1 + w_2x_2 + w_3x_3 $"
   ]
  },
  {
   "cell_type": "markdown",
   "metadata": {
    "slideshow": {
     "slide_type": "slide"
    }
   },
   "source": [
    "## Training and Loss\n",
    "![](.\\study_01_pics\\loss.png)"
   ]
  },
  {
   "cell_type": "markdown",
   "metadata": {
    "slideshow": {
     "slide_type": "slide"
    }
   },
   "source": [
    "Mean square error (MSE) is the average squared loss per example over the whole dataset. To calculate MSE, sum up all the squared losses for individual examples and then divide by the number of examples:\n",
    "\n",
    "$\\text{MSE} = \\frac{1}{N}\\sum_{(x, y)\\in{D}} \\left(y-\\text{prediction}(x)\\right)^2$\n",
    "\n",
    "where:\n",
    "\n",
    "$(x, y)$ is an example in which\n",
    "* $x$ is the set of features (for example, chirps/minute, age, gender) that the model uses to make predictions.\n",
    "* $y$ is the example's label (for example, temperature).\n",
    "\n",
    "$prediction(x)$ is a function of the weights and bias in combination with the set of features .\n",
    "\n",
    "$D$ a data set containing many labeled examples, which are $(x, y)$.\n",
    "$N$ is the number of examples in $D$."
   ]
  },
  {
   "cell_type": "markdown",
   "metadata": {
    "slideshow": {
     "slide_type": "slide"
    }
   },
   "source": [
    "![](.\\study_01_pics\\Q_MSE.png)"
   ]
  },
  {
   "cell_type": "markdown",
   "metadata": {
    "slideshow": {
     "slide_type": "slide"
    }
   },
   "source": [
    "![](.\\study_01_pics\\Ans_MSE.png)"
   ]
  },
  {
   "cell_type": "code",
   "execution_count": 9,
   "metadata": {
    "slideshow": {
     "slide_type": "skip"
    }
   },
   "outputs": [],
   "source": [
    "# 建立一組模擬資料\n",
    "\n",
    "x = np.arange(0, 10)\n",
    "b = 100\n",
    "w_1 = 3\n",
    "\n",
    "np.random.set_state = 42\n",
    "n = np.random.randn(10) * 2\n",
    "\n",
    "y = b + w_1 * x + n\n",
    "list(np.round(y, 2))"
   ]
  },
  {
   "cell_type": "code",
   "execution_count": 16,
   "metadata": {},
   "outputs": [
    {
     "data": {
      "text/plain": [
       "2.7009090909090907"
      ]
     },
     "metadata": {},
     "output_type": "display_data"
    },
    {
     "data": {
      "text/plain": [
       "101.74890909090908"
      ]
     },
     "metadata": {},
     "output_type": "display_data"
    }
   ],
   "source": [
    "# 使用 sklearn 的 LinearRegression 來找 w_1 與 b\n",
    "from sklearn.linear_model import LinearRegression\n",
    "\n",
    "x = [0, 1, 2, 3, 4, 5, 6, 7, 8, 9]\n",
    "y = [100.68, 103.55, 106.41, 114.11, 112.18, 115.2, 117.66, 119.52, 125.04, 124.68]\n",
    "\n",
    "lr = LinearRegression()\n",
    "lr.fit(np.array(x).reshape(-1, 1), y)\n",
    "y_pred = lr.predict(np.array(x).reshape(-1, 1)\n",
    "                   )\n",
    "display(lr.coef_[0])\n",
    "display(lr.intercept_)"
   ]
  },
  {
   "cell_type": "markdown",
   "metadata": {
    "slideshow": {
     "slide_type": "slide"
    }
   },
   "source": [
    "## Excise\n",
    "\n",
    "有一組 data\n",
    "```\n",
    "x = [0, 1, 2, 3, 4, 5, 6, 7, 8, 9]\n",
    "\n",
    "y = [100.68, 103.55, 106.41, 114.11, 112.18, 115.2, 117.66, 119.52, 125.04, 124.68]\n",
    "```\n",
    "根據剛剛學到的\n",
    "\n",
    "$y = b + w_1x$\n",
    "\n",
    "請試著找出比較好的 $b$ 與 $w_1$，並算出均方差(MSE)為多少。\n",
    "\n",
    "並劃出圖來說明。\n"
   ]
  },
  {
   "cell_type": "code",
   "execution_count": 10,
   "metadata": {
    "slideshow": {
     "slide_type": "subslide"
    }
   },
   "outputs": [
    {
     "data": {
      "image/png": "[encoded data removed]",
      "text/plain": [
       "<Figure size 432x288 with 1 Axes>"
      ]
     },
     "metadata": {
      "needs_background": "light"
     },
     "output_type": "display_data"
    },
    {
     "data": {
      "text/plain": [
       "3.5887499999999997"
      ]
     },
     "metadata": {},
     "output_type": "display_data"
    }
   ],
   "source": [
    "from matplotlib import pyplot as plt\n",
    "import numpy as np\n",
    "\n",
    "x = np.arange(0, 10)\n",
    "y = [100.68, 103.55, 106.41, 114.11, 112.18, 115.2, 117.66, 119.52, 125.04, 124.68]\n",
    "y_pred = lambda x: 100 + 3 * x\n",
    "\n",
    "plt.figure()\n",
    "plt.plot(x, y_pred(x))\n",
    "plt.plot(x, y, 'ro')\n",
    "mse = np.sum((y_pred(x) - y) ** 2) / len(x)\n",
    "plt.title('MSE = {:.3}'.format(mse))\n",
    "plt.grid()\n",
    "plt.show()\n",
    "\n",
    "# 使用 sklearn 來算 MSE\n",
    "from sklearn.metrics import mean_squared_error\n",
    "display(mean_squared_error(y, y_pred(x)))"
   ]
  }
 ],
 "metadata": {
  "kernelspec": {
   "display_name": "Python 3",
   "language": "python",
   "name": "python3"
  },
  "language_info": {
   "codemirror_mode": {
    "name": "ipython",
    "version": 3
   },
   "file_extension": ".py",
   "mimetype": "text/x-python",
   "name": "python",
   "nbconvert_exporter": "python",
   "pygments_lexer": "ipython3",
   "version": "3.6.8"
  }
 },
 "nbformat": 4,
 "nbformat_minor": 2
}
