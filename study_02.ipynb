{
 "cells": [
  {
   "cell_type": "markdown",
   "metadata": {
    "slideshow": {
     "slide_type": "slide"
    }
   },
   "source": [
    "# Reducing Loss"
   ]
  },
  {
   "cell_type": "markdown",
   "metadata": {
    "slideshow": {
     "slide_type": "slide"
    }
   },
   "source": [
    "## Object\n",
    "* Discover how to train a model using an iterative approach.\n",
    "* Understand full gradient descent and some variants, including:\n",
    "    * mini-batch gradient descent\n",
    "    * stochastic gradient descent\n",
    "* Experiment with learning rate."
   ]
  },
  {
   "cell_type": "markdown",
   "metadata": {
    "slideshow": {
     "slide_type": "slide"
    }
   },
   "source": [
    "## 如何減小誤差\n",
    "1. 上次學習了如何計算誤差(MSE)。這次要學習如何選擇一組合適的模型參數來盡可能減小誤差\n",
    "2. 通過反覆的運算，每次運算都要找到一組模型參數，可以獲得比前一次運算更小的誤差\n",
    "3. 可以透過計算**梯度**來找模型參數，也就是計算誤差函數的導數，這樣我們就可以有效率的更新模型參數"
   ]
  },
  {
   "cell_type": "markdown",
   "metadata": {
    "slideshow": {
     "slide_type": "slide"
    }
   },
   "source": [
    "## Gradient Descent and Tunning Model\n",
    "\n",
    "![](./study_02_pics/image.png)"
   ]
  },
  {
   "cell_type": "markdown",
   "metadata": {
    "slideshow": {
     "slide_type": "slide"
    }
   },
   "source": [
    "## 遙想當年的微積分...\n",
    "\n",
    "微分描述了當函數的局部變化的程度。也就是說，透過微分可以近似地描述，當函數自變量 $x$ 非常小的改變時，函數的值 $f(x)$ 會變成怎麼樣。"
   ]
  },
  {
   "cell_type": "markdown",
   "metadata": {
    "slideshow": {
     "slide_type": "slide"
    }
   },
   "source": [
    "![](study_02_pics/beaut_math_tech.png)"
   ]
  },
  {
   "cell_type": "code",
   "execution_count": 210,
   "metadata": {
    "hide_input": false,
    "slideshow": {
     "slide_type": "slide"
    }
   },
   "outputs": [
    {
     "data": {
      "text/html": [
       "<iframe width=\"560\" height=\"315\"      src=\"https://www.youtube.com/embed/TD_hAqaUudo\"      frameborder=\"0\"      allow=\"accelerometer; autoplay; encrypted-media; gyroscope; picture-in-picture\"      allowfullscreen></iframe>"
      ],
      "text/plain": [
       "<IPython.core.display.HTML object>"
      ]
     },
     "execution_count": 210,
     "metadata": {},
     "output_type": "execute_result"
    }
   ],
   "source": [
    "from IPython.display import HTML, IFrame\n",
    "\n",
    "# Youtube\n",
    "HTML('<iframe width=\"560\" height=\"315\" \\\n",
    "     src=\"https://www.youtube.com/embed/TD_hAqaUudo\" \\\n",
    "     frameborder=\"0\" \\\n",
    "     allow=\"accelerometer; autoplay; encrypted-media; gyroscope; picture-in-picture\" \\\n",
    "     allowfullscreen></iframe>')"
   ]
  },
  {
   "cell_type": "markdown",
   "metadata": {
    "hide_input": false,
    "slideshow": {
     "slide_type": "slide"
    }
   },
   "source": [
    "$ y' = f(x) = wx + c $\n",
    "\n",
    "誤差可以定義為 \n",
    "\n",
    "$ (y' - y)^2 = (f(x) - y)^2 = ((wx + c) - y)^2$\n",
    "\n",
    "對 $w$ 做微分\n",
    "\n",
    "$ 2(wx + c - y) \\cdot (x)$\n",
    "\n",
    "對 $c$ 做微分\n",
    "\n",
    "$ 2(wx + c - y)$"
   ]
  },
  {
   "cell_type": "markdown",
   "metadata": {
    "slideshow": {
     "slide_type": "slide"
    }
   },
   "source": [
    "## 如果是很多的 $x_i$ 與對應的 $y_i$ 的話...\n",
    "\n",
    "誤差定義: \n",
    "\n",
    "$ (y_1-y_1')^2 + (y_2-y_2')^2 + (y_3-y_3')^2 + ... + (y_N-y'_N)^2$\n",
    "\n",
    "$ = \\sum_{n=1}^{N} (y_n - y'_{n})^2 $\n",
    "\n",
    "$ = \\sum_{n=1}^{N} ((wx_{n}+c) - y'_{n})^2 $"
   ]
  },
  {
   "cell_type": "markdown",
   "metadata": {
    "slideshow": {
     "slide_type": "slide"
    }
   },
   "source": [
    "對 $w$ 做微分\n",
    "\n",
    "$ \\sum_{n=1}^N 2(wx_n + c - y_n) \\cdot x_n $\n",
    "\n",
    "對 $c$ 做微分\n",
    "\n",
    "$ \\sum_{n=1}^N 2(wx_n + c - y_n) $"
   ]
  },
  {
   "cell_type": "markdown",
   "metadata": {
    "slideshow": {
     "slide_type": "slide"
    }
   },
   "source": [
    "# 尋找 Loss function 的最小值"
   ]
  },
  {
   "cell_type": "markdown",
   "metadata": {
    "slideshow": {
     "slide_type": "slide"
    }
   },
   "source": [
    "![](./study_02_pics/loss_vs_weight_1.png)"
   ]
  },
  {
   "cell_type": "markdown",
   "metadata": {
    "slideshow": {
     "slide_type": "slide"
    }
   },
   "source": [
    "## Starting Point\n",
    "\n",
    "![](./study_02_pics/loss_vs_weight_2.png)"
   ]
  },
  {
   "cell_type": "markdown",
   "metadata": {
    "slideshow": {
     "slide_type": "slide"
    }
   },
   "source": [
    "## Gradient\n",
    "\n",
    "![](./study_02_pics/loss_vs_weight_3.png)"
   ]
  },
  {
   "cell_type": "markdown",
   "metadata": {
    "slideshow": {
     "slide_type": "slide"
    }
   },
   "source": [
    "## Learning Rate"
   ]
  },
  {
   "cell_type": "markdown",
   "metadata": {
    "slideshow": {
     "slide_type": "slide"
    }
   },
   "source": [
    "###  Small Learning Rate\n",
    "\n",
    "![](./study_02_pics/learning_rate_1.png)"
   ]
  },
  {
   "cell_type": "markdown",
   "metadata": {
    "slideshow": {
     "slide_type": "slide"
    }
   },
   "source": [
    "## Overshoting (too large learning rate)\n",
    "\n",
    "![](./study_02_pics/learning_rate_2.png)"
   ]
  },
  {
   "cell_type": "markdown",
   "metadata": {
    "slideshow": {
     "slide_type": "slide"
    }
   },
   "source": [
    "## Get There Efficiently\n",
    "\n",
    "![](./study_02_pics/learning_rate_3.png)"
   ]
  },
  {
   "cell_type": "markdown",
   "metadata": {
    "slideshow": {
     "slide_type": "slide"
    }
   },
   "source": [
    "## Execise\n",
    "\n",
    "[https://developers.google.com/machine-learning/crash-course/fitter/graph](https://developers.google.com/machine-learning/crash-course/fitter/graph)\n",
    "\n",
    "![](./study_02_pics/ex_1.png)"
   ]
  },
  {
   "cell_type": "markdown",
   "metadata": {
    "slideshow": {
     "slide_type": "slide"
    }
   },
   "source": [
    "## Gradient descent\n",
    "\n",
    "A technique to minimize loss by computing the gradients of loss with respect to the model's parameters, conditioned on training data. Informally, gradient descent iteratively adjusts parameters, gradually finding the best combination of weights and bias to minimize loss."
   ]
  },
  {
   "cell_type": "markdown",
   "metadata": {
    "slideshow": {
     "slide_type": "slide"
    }
   },
   "source": [
    "## Stochastic Gradient Descent\n",
    "\n",
    "Stochastic gradient descent (SGD) takes this idea to the extreme--it uses only a single example (a batch size of 1) per iteration. Given enough iterations, SGD works but is very noisy. The term \"stochastic\" indicates that the one example comprising each batch is chosen at random."
   ]
  },
  {
   "cell_type": "markdown",
   "metadata": {
    "slideshow": {
     "slide_type": "slide"
    }
   },
   "source": [
    "## Mini-batch Stochastic Gradient Descent (mini-batch SGD) \n",
    "\n",
    "Mini-batch stochastic gradient descent (mini-batch SGD) is a compromise between full-batch iteration and SGD. A mini-batch is typically between 10 and 1,000 examples, chosen at random. Mini-batch SGD reduces the amount of noise in SGD but is still more efficient than full-batch."
   ]
  },
  {
   "cell_type": "markdown",
   "metadata": {
    "slideshow": {
     "slide_type": "slide"
    }
   },
   "source": [
    "## Playground\n",
    "\n",
    "[https://developers.google.com/machine-learning/crash-course/reducing-loss/playground-exercise](https://developers.google.com/machine-learning/crash-course/reducing-loss/playground-exercise)\n",
    "\n",
    "![](./study_02_pics/playground.png)"
   ]
  },
  {
   "cell_type": "markdown",
   "metadata": {
    "slideshow": {
     "slide_type": "slide"
    }
   },
   "source": [
    "## Check Your Understanding: Batch Size\n",
    "\n",
    "![](./study_02_pics/Q_A.png)"
   ]
  },
  {
   "cell_type": "markdown",
   "metadata": {
    "slideshow": {
     "slide_type": "slide"
    }
   },
   "source": [
    "![](./study_02_pics/QA_2.png)"
   ]
  },
  {
   "cell_type": "markdown",
   "metadata": {
    "slideshow": {
     "slide_type": "slide"
    }
   },
   "source": [
    "## 問題\n",
    "\n",
    "從 \"Value of Weight vs. Loss\" 的圖來看，哪一點最低不就已經知道了嗎？為何還要 Gradient Descent 來找？"
   ]
  },
  {
   "cell_type": "markdown",
   "metadata": {
    "slideshow": {
     "slide_type": "slide"
    }
   },
   "source": [
    "## 從頭到尾做一次就知道原因了"
   ]
  },
  {
   "cell_type": "markdown",
   "metadata": {
    "slideshow": {
     "slide_type": "slide"
    }
   },
   "source": [
    "1. 產生一組資料 $ y = 3 \\cdot x + noise $，這裡的係數 3 是我們要找的答案喔，只是在這裡先給大家看。"
   ]
  },
  {
   "cell_type": "markdown",
   "metadata": {
    "slideshow": {
     "slide_type": "slide"
    }
   },
   "source": [
    "2. 我們想要訓練一個線性的模型 $y' = w \\cdot x$ 來做預測。"
   ]
  },
  {
   "cell_type": "markdown",
   "metadata": {
    "slideshow": {
     "slide_type": "slide"
    }
   },
   "source": [
    "3. 定義誤差 Loss \n",
    "\n",
    "$ MSE =  \\frac{1}{N}(y-y')^2 $\n",
    "\n",
    "$ = \\frac{1}{N}(y - wx) ^ 2 $\n",
    "\n",
    "$ = \\frac{1}{N}(y^2 - 2wxy + w^2x^2) $"
   ]
  },
  {
   "cell_type": "markdown",
   "metadata": {
    "slideshow": {
     "slide_type": "slide"
    }
   },
   "source": [
    "4. 則 $MSE$ 對 $w$ 的微分為 \n",
    "\n",
    "$\\frac{1}{N}(-2xy+2wx^2)$"
   ]
  },
  {
   "cell_type": "markdown",
   "metadata": {
    "slideshow": {
     "slide_type": "slide"
    }
   },
   "source": [
    "5. 一開始先來訂一個要猜的 $w$ 初始值，先來試試是 $w=1$ 好了。"
   ]
  },
  {
   "cell_type": "markdown",
   "metadata": {
    "slideshow": {
     "slide_type": "slide"
    }
   },
   "source": [
    "6. 把 $w=1$ 帶進去算會得到一個 $MSE$，那接下來要 $w$ 變成多少才會讓誤差更小呢？而新猜的 w 的 $MSE$ 是多少？"
   ]
  },
  {
   "cell_type": "markdown",
   "metadata": {
    "slideshow": {
     "slide_type": "slide"
    }
   },
   "source": [
    "7. 所以我們一開始是不知道 \"Values of weight vs. Loss \" 的圖的喔！要一直變化 $w$ 才能找到。"
   ]
  },
  {
   "cell_type": "code",
   "execution_count": 220,
   "metadata": {
    "slideshow": {
     "slide_type": "slide"
    }
   },
   "outputs": [
    {
     "data": {
      "image/png": "[encoded data removed]",
      "text/plain": [
       "<Figure size 432x288 with 1 Axes>"
      ]
     },
     "metadata": {
      "needs_background": "light"
     },
     "output_type": "display_data"
    }
   ],
   "source": [
    "import numpy as np\n",
    "from matplotlib import pyplot as plt\n",
    "\n",
    "func_y = lambda x: 3 * x + 5 * np.random.randn()\n",
    "\n",
    "x = np.arange(-10, 10)\n",
    "y = [func_y(k) for k in x]\n",
    "plt.plot(np.arange(-10, 10), y, '.')\n",
    "plt.xlabel('x')\n",
    "plt.ylabel('y')\n",
    "plt.grid()\n",
    "plt.show()"
   ]
  },
  {
   "cell_type": "code",
   "execution_count": 221,
   "metadata": {
    "slideshow": {
     "slide_type": "slide"
    }
   },
   "outputs": [],
   "source": [
    "# 定義一個模型\n",
    "def model(x, w):\n",
    "    y_pred = w * x\n",
    "    return y_pred\n",
    "\n",
    "# 定義 Loss 的計算方法\n",
    "def loss(y, y_pred):\n",
    "    MSE = np.mean((y_pred - y) ** 2)\n",
    "    return MSE\n",
    "\n",
    "# y = wx 的 gradient descent \n",
    "def grad_descent(x, y, w):\n",
    "    grad_descent = np.mean(-2 * x * y + 2 * w * x ** 2)\n",
    "    return grad_descent"
   ]
  },
  {
   "cell_type": "markdown",
   "metadata": {},
   "source": [
    "Model: $y' = w \\cdot x$ \n",
    "\n",
    "$MSE = \\frac{1}{N} (y-y') ^2$ \n",
    "\n",
    "$Gradent Descent = \\frac{1}{N}(-2xy+2wx^2)$"
   ]
  },
  {
   "cell_type": "code",
   "execution_count": 224,
   "metadata": {
    "slideshow": {
     "slide_type": "slide"
    }
   },
   "outputs": [],
   "source": [
    "# 初始值\n",
    "w_history = []\n",
    "loss_history = []"
   ]
  },
  {
   "cell_type": "code",
   "execution_count": 222,
   "metadata": {
    "slideshow": {
     "slide_type": "slide"
    }
   },
   "outputs": [],
   "source": [
    "# 尋找最好的 w\n",
    "def cal_and_plot(w):\n",
    "    # w = 5\n",
    "    y_pred = model(x, w)\n",
    "\n",
    "    fig, (ax_0, ax_1) = plt.subplots(1, 2, figsize=(15, 5))\n",
    "\n",
    "    ax_0.plot(x, y, '.')\n",
    "    ax_0.plot(x, y_pred, 'r-')\n",
    "    ax_0.set_xlabel('x')\n",
    "    ax_0.set_ylabel('y')\n",
    "    ax_0.grid()\n",
    "\n",
    "    loss_val = loss(y, y_pred)\n",
    "    grad_descent_val = grad_descent(x, y, w)\n",
    "\n",
    "    print('Loss: {}'.format(loss_val))\n",
    "    print('Gradient: {}'.format(grad_descent_val))\n",
    "\n",
    "    w_history.extend([w])\n",
    "    loss_history.extend([loss_val])\n",
    "\n",
    "    ax_1.plot(w_history, loss_history, 'g*')\n",
    "    ax_1.plot(w_history[-1], loss_history[-1], 'r*')\n",
    "    ax_1.set_xlim(-3, 7)\n",
    "    ax_1.grid(), ax_1.set_xlabel('Value of Weight'), ax_1.set_ylabel('Loss')"
   ]
  },
  {
   "cell_type": "code",
   "execution_count": 231,
   "metadata": {
    "scrolled": false,
    "slideshow": {
     "slide_type": "slide"
    }
   },
   "outputs": [
    {
     "name": "stdout",
     "output_type": "stream",
     "text": [
      "Loss: 25.880904066803623\n",
      "Gradient: 0.3573879290355862\n"
     ]
    },
    {
     "data": {
      "image/png": "[encoded data removed]",
      "text/plain": [
       "<Figure size 1080x360 with 2 Axes>"
      ]
     },
     "metadata": {
      "needs_background": "light"
     },
     "output_type": "display_data"
    }
   ],
   "source": [
    "cal_and_plot(w=2.865) # cal_and_plot"
   ]
  },
  {
   "cell_type": "code",
   "execution_count": 70,
   "metadata": {
    "slideshow": {
     "slide_type": "skip"
    }
   },
   "outputs": [
    {
     "data": {
      "application/vnd.jupyter.widget-view+json": {
       "model_id": "4949a72b3e374318b22de3513579ab99",
       "version_major": 2,
       "version_minor": 0
      },
      "text/plain": [
       "interactive(children=(FloatSlider(value=1.0, description='freq', max=3.0, min=-1.0), Dropdown(description='col…"
      ]
     },
     "metadata": {},
     "output_type": "display_data"
    }
   ],
   "source": [
    "from ipywidgets import IntText\n",
    "import ipywidgets as widgets\n",
    "\n",
    "@widgets.interact_manual(color=['blue', 'red', 'green'], lw=(1., 10.))\n",
    "def plot(freq=1., color='red', lw=2, grid=True, title='x123'):\n",
    "    t = np.linspace(-1., +1., 1000)\n",
    "    fig, ax = plt.subplots(1, 1, figsize=(8, 6))\n",
    "    ax.plot(t, np.sin(2 * np.pi * freq * t),\n",
    "            lw=lw, color=color)\n",
    "    ax.set_title(title)\n",
    "    ax.grid(grid)"
   ]
  }
 ],
 "metadata": {
  "celltoolbar": "Slideshow",
  "hide_input": false,
  "kernelspec": {
   "display_name": "Python 3",
   "language": "python",
   "name": "python3"
  },
  "language_info": {
   "codemirror_mode": {
    "name": "ipython",
    "version": 3
   },
   "file_extension": ".py",
   "mimetype": "text/x-python",
   "name": "python",
   "nbconvert_exporter": "python",
   "pygments_lexer": "ipython3",
   "version": "3.6.8"
  },
  "varInspector": {
   "cols": {
    "lenName": 16,
    "lenType": 16,
    "lenVar": 40
   },
   "kernels_config": {
    "python": {
     "delete_cmd_postfix": "",
     "delete_cmd_prefix": "del ",
     "library": "var_list.py",
     "varRefreshCmd": "print(var_dic_list())"
    },
    "r": {
     "delete_cmd_postfix": ") ",
     "delete_cmd_prefix": "rm(",
     "library": "var_list.r",
     "varRefreshCmd": "cat(var_dic_list()) "
    }
   },
   "types_to_exclude": [
    "module",
    "function",
    "builtin_function_or_method",
    "instance",
    "_Feature"
   ],
   "window_display": false
  }
 },
 "nbformat": 4,
 "nbformat_minor": 2
}
